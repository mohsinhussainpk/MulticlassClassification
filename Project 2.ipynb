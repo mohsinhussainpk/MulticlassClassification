{
 "cells": [
  {
   "cell_type": "code",
   "execution_count": 2,
   "metadata": {
    "scrolled": true
   },
   "outputs": [
    {
     "name": "stderr",
     "output_type": "stream",
     "text": [
      "C:\\Users\\dell\\Anaconda3\\lib\\site-packages\\h5py\\__init__.py:36: FutureWarning: Conversion of the second argument of issubdtype from `float` to `np.floating` is deprecated. In future, it will be treated as `np.float64 == np.dtype(float).type`.\n",
      "  from ._conv import register_converters as _register_converters\n",
      "Using TensorFlow backend.\n"
     ]
    }
   ],
   "source": [
    "import numpy\n",
    "import pandas\n",
    "from keras.models import Sequential\n",
    "from keras import models\n",
    "from keras import layers\n",
    "from keras.layers import Dense\n",
    "from keras.wrappers.scikit_learn import KerasClassifier\n",
    "from keras.utils import np_utils\n",
    "from sklearn.model_selection import cross_val_score\n",
    "from sklearn.model_selection import KFold\n",
    "from sklearn.preprocessing import LabelEncoder\n",
    "from sklearn.pipeline import Pipeline\n"
   ]
  },
  {
   "cell_type": "code",
   "execution_count": 3,
   "metadata": {},
   "outputs": [],
   "source": [
    "\n",
    "# fix random seed for reproducibility\n",
    "seed = 7\n",
    "numpy.random.seed(seed)\n"
   ]
  },
  {
   "cell_type": "code",
   "execution_count": 4,
   "metadata": {},
   "outputs": [],
   "source": [
    "# load dataset\n",
    "dataframe = pandas.read_csv(\"iris.csv\", header=None)\n",
    "from sklearn.utils import shuffle\n",
    "dataframe = shuffle(dataframe)\n",
    "dataset = dataframe.values\n",
    "X = dataset[:,0:4].astype(float)\n",
    "Y = dataset[:,4]\n"
   ]
  },
  {
   "cell_type": "code",
   "execution_count": 5,
   "metadata": {},
   "outputs": [],
   "source": [
    "\n",
    "\n",
    "# encode class values as integers\n",
    "encoder = LabelEncoder()\n",
    "encoder.fit(Y)\n",
    "encoded_Y = encoder.transform(Y)\n",
    "# convert integers to dummy variables (i.e. one hot encoded)\n",
    "dummy_y = np_utils.to_categorical(encoded_Y)\n"
   ]
  },
  {
   "cell_type": "code",
   "execution_count": 26,
   "metadata": {},
   "outputs": [
    {
     "data": {
      "text/plain": [
       "array([2, 1, 0, 1, 2, 0, 1, 1, 0, 1, 1, 1, 0, 2, 0, 1, 2, 2, 0, 0, 1, 2,\n",
       "       1, 2, 2, 2, 1, 1, 2, 2, 2, 1, 0, 2, 1, 0, 0, 0, 0, 2, 2, 1, 2, 2,\n",
       "       1, 0, 1, 1, 2, 0, 0, 0, 2, 0, 2, 1, 1, 1, 0, 0, 0, 1, 2, 1, 1, 0,\n",
       "       2, 0, 0, 2, 2, 0, 2, 0, 1, 2, 1, 0, 1, 0, 2, 2, 1, 0, 0, 1, 2, 0,\n",
       "       2, 2, 1, 0, 1, 0, 2, 2, 0, 0, 2, 1, 2, 2, 1, 0, 0, 2, 0, 0, 1, 2,\n",
       "       2, 1, 1, 0, 2, 0, 0, 1, 1, 2, 0, 1, 1, 2, 2, 1, 2, 0, 1, 1, 0, 0,\n",
       "       0, 1, 1, 0, 2, 2, 1, 2, 0, 2, 1, 1, 0, 2, 1, 2, 1, 0], dtype=int64)"
      ]
     },
     "execution_count": 26,
     "metadata": {},
     "output_type": "execute_result"
    }
   ],
   "source": [
    "encoded_Y"
   ]
  },
  {
   "cell_type": "code",
   "execution_count": 75,
   "metadata": {},
   "outputs": [
    {
     "data": {
      "text/plain": [
       "array([[5.9, 3. , 5.1, 1.8],\n",
       "       [5.4, 3. , 4.5, 1.5],\n",
       "       [5. , 3.5, 1.3, 0.3],\n",
       "       [5.6, 3. , 4.5, 1.5],\n",
       "       [4.9, 2.5, 4.5, 1.7],\n",
       "       [4.5, 2.3, 1.3, 0.3],\n",
       "       [6.9, 3.1, 4.9, 1.5],\n",
       "       [5.6, 2.7, 4.2, 1.3],\n",
       "       [4.8, 3.4, 1.6, 0.2],\n",
       "       [6.4, 3.2, 4.5, 1.5],\n",
       "       [6.7, 3. , 5. , 1.7],\n",
       "       [6. , 3.4, 4.5, 1.6],\n",
       "       [5.2, 4.1, 1.5, 0.1],\n",
       "       [7.2, 3.6, 6.1, 2.5],\n",
       "       [5.2, 3.4, 1.4, 0.2],\n",
       "       [5.9, 3.2, 4.8, 1.8],\n",
       "       [6.7, 2.5, 5.8, 1.8],\n",
       "       [6.4, 3.1, 5.5, 1.8],\n",
       "       [5.1, 3.8, 1.6, 0.2],\n",
       "       [4.9, 3.1, 1.5, 0.1],\n",
       "       [5.8, 2.7, 3.9, 1.2],\n",
       "       [6.9, 3.2, 5.7, 2.3],\n",
       "       [6.1, 2.9, 4.7, 1.4],\n",
       "       [6. , 2.2, 5. , 1.5],\n",
       "       [7.2, 3. , 5.8, 1.6],\n",
       "       [6. , 3. , 4.8, 1.8],\n",
       "       [6.2, 2.9, 4.3, 1.3],\n",
       "       [5.5, 2.4, 3.8, 1.1],\n",
       "       [5.8, 2.7, 5.1, 1.9],\n",
       "       [6.7, 3.1, 5.6, 2.4],\n",
       "       [6.2, 2.8, 4.8, 1.8],\n",
       "       [5.7, 2.6, 3.5, 1. ],\n",
       "       [4.6, 3.6, 1. , 0.2],\n",
       "       [6.9, 3.1, 5.4, 2.1],\n",
       "       [6.4, 2.9, 4.3, 1.3],\n",
       "       [4.8, 3. , 1.4, 0.3],\n",
       "       [5.5, 3.5, 1.3, 0.2],\n",
       "       [5.4, 3.9, 1.7, 0.4],\n",
       "       [5.1, 3.5, 1.4, 0.3],\n",
       "       [7.1, 3. , 5.9, 2.1],\n",
       "       [6.7, 3.3, 5.7, 2.1],\n",
       "       [6.8, 2.8, 4.8, 1.4],\n",
       "       [6.4, 2.8, 5.6, 2.2],\n",
       "       [6.5, 3. , 5.5, 1.8],\n",
       "       [5.7, 3. , 4.2, 1.2],\n",
       "       [5. , 3.3, 1.4, 0.2],\n",
       "       [6.7, 3.1, 4.4, 1.4],\n",
       "       [6. , 2.2, 4. , 1. ],\n",
       "       [6.4, 2.7, 5.3, 1.9],\n",
       "       [4.7, 3.2, 1.6, 0.2],\n",
       "       [4.6, 3.1, 1.5, 0.2],\n",
       "       [5.1, 3.4, 1.5, 0.2],\n",
       "       [7.7, 3.8, 6.7, 2.2],\n",
       "       [4.3, 3. , 1.1, 0.1],\n",
       "       [6.3, 3.3, 6. , 2.5],\n",
       "       [5.5, 2.4, 3.7, 1. ],\n",
       "       [5. , 2. , 3.5, 1. ],\n",
       "       [6.5, 2.8, 4.6, 1.5],\n",
       "       [5. , 3.4, 1.6, 0.4],\n",
       "       [4.4, 2.9, 1.4, 0.2],\n",
       "       [5. , 3.5, 1.6, 0.6],\n",
       "       [6.7, 3.1, 4.7, 1.5],\n",
       "       [7.3, 2.9, 6.3, 1.8],\n",
       "       [5.5, 2.6, 4.4, 1.2],\n",
       "       [5.2, 2.7, 3.9, 1.4],\n",
       "       [5.7, 4.4, 1.5, 0.4],\n",
       "       [7.2, 3.2, 6. , 1.8],\n",
       "       [5.4, 3.4, 1.7, 0.2],\n",
       "       [5.8, 4. , 1.2, 0.2],\n",
       "       [6.1, 2.6, 5.6, 1.4],\n",
       "       [5.7, 2.5, 5. , 2. ],\n",
       "       [4.8, 3. , 1.4, 0.1],\n",
       "       [6.5, 3. , 5.8, 2.2],\n",
       "       [4.6, 3.2, 1.4, 0.2],\n",
       "       [6.6, 2.9, 4.6, 1.3],\n",
       "       [6.7, 3. , 5.2, 2.3],\n",
       "       [6.1, 3. , 4.6, 1.4],\n",
       "       [5.7, 3.8, 1.7, 0.3],\n",
       "       [7. , 3.2, 4.7, 1.4],\n",
       "       [4.7, 3.2, 1.3, 0.2],\n",
       "       [6.5, 3. , 5.2, 2. ],\n",
       "       [7.7, 2.6, 6.9, 2.3],\n",
       "       [4.9, 2.4, 3.3, 1. ],\n",
       "       [4.8, 3.1, 1.6, 0.2],\n",
       "       [5.5, 4.2, 1.4, 0.2],\n",
       "       [5.6, 3. , 4.1, 1.3],\n",
       "       [6.4, 3.2, 5.3, 2.3],\n",
       "       [5.2, 3.5, 1.5, 0.2],\n",
       "       [7.9, 3.8, 6.4, 2. ],\n",
       "       [5.8, 2.8, 5.1, 2.4],\n",
       "       [5.7, 2.9, 4.2, 1.3],\n",
       "       [5.1, 3.7, 1.5, 0.4],\n",
       "       [5.1, 2.5, 3. , 1.1],\n",
       "       [5. , 3.4, 1.5, 0.2],\n",
       "       [7.7, 2.8, 6.7, 2. ],\n",
       "       [7.6, 3. , 6.6, 2.1],\n",
       "       [5. , 3.2, 1.2, 0.2],\n",
       "       [5.4, 3.7, 1.5, 0.2],\n",
       "       [6.7, 3.3, 5.7, 2.5],\n",
       "       [6.1, 2.8, 4. , 1.3],\n",
       "       [6.3, 2.5, 5. , 1.9],\n",
       "       [7.4, 2.8, 6.1, 1.9],\n",
       "       [5. , 2.3, 3.3, 1. ],\n",
       "       [5.4, 3.4, 1.5, 0.4],\n",
       "       [5.4, 3.9, 1.3, 0.4],\n",
       "       [5.6, 2.8, 4.9, 2. ],\n",
       "       [4.9, 3. , 1.4, 0.2],\n",
       "       [5.3, 3.7, 1.5, 0.2],\n",
       "       [6. , 2.7, 5.1, 1.6],\n",
       "       [6.8, 3.2, 5.9, 2.3],\n",
       "       [6.2, 3.4, 5.4, 2.3],\n",
       "       [5.7, 2.8, 4.1, 1.3],\n",
       "       [6.3, 2.3, 4.4, 1.3],\n",
       "       [4.9, 3.1, 1.5, 0.1],\n",
       "       [6.9, 3.1, 5.1, 2.3],\n",
       "       [5. , 3.6, 1.4, 0.2],\n",
       "       [4.4, 3. , 1.3, 0.2],\n",
       "       [6. , 2.9, 4.5, 1.5],\n",
       "       [6.1, 2.8, 4.7, 1.2],\n",
       "       [6.4, 2.8, 5.6, 2.1],\n",
       "       [4.9, 3.1, 1.5, 0.1],\n",
       "       [5.6, 2.9, 3.6, 1.3],\n",
       "       [5.9, 3. , 4.2, 1.5],\n",
       "       [6.3, 2.7, 4.9, 1.8],\n",
       "       [6.8, 3. , 5.5, 2.1],\n",
       "       [5.5, 2.3, 4. , 1.3],\n",
       "       [6.3, 2.8, 5.1, 1.5],\n",
       "       [4.8, 3.4, 1.9, 0.2],\n",
       "       [6.3, 3.3, 4.7, 1.6],\n",
       "       [5.6, 2.5, 3.9, 1.1],\n",
       "       [5.1, 3.8, 1.9, 0.4],\n",
       "       [5.1, 3.8, 1.5, 0.3],\n",
       "       [4.6, 3.4, 1.4, 0.3],\n",
       "       [5.7, 2.8, 4.5, 1.3],\n",
       "       [6.6, 3. , 4.4, 1.4],\n",
       "       [5.1, 3.5, 1.4, 0.2],\n",
       "       [7.7, 3. , 6.1, 2.3],\n",
       "       [6.1, 3. , 4.9, 1.8],\n",
       "       [6.2, 2.2, 4.5, 1.5],\n",
       "       [6.3, 3.4, 5.6, 2.4],\n",
       "       [4.4, 3.2, 1.3, 0.2],\n",
       "       [6.5, 3.2, 5.1, 2. ],\n",
       "       [5.5, 2.5, 4. , 1.3],\n",
       "       [6.3, 2.5, 4.9, 1.5],\n",
       "       [5.1, 3.3, 1.7, 0.5],\n",
       "       [5.8, 2.7, 5.1, 1.9],\n",
       "       [5.8, 2.6, 4. , 1.2],\n",
       "       [6.3, 2.9, 5.6, 1.8],\n",
       "       [5.8, 2.7, 4.1, 1. ],\n",
       "       [5. , 3. , 1.6, 0.2]])"
      ]
     },
     "execution_count": 75,
     "metadata": {},
     "output_type": "execute_result"
    }
   ],
   "source": [
    "X"
   ]
  },
  {
   "cell_type": "markdown",
   "metadata": {},
   "source": [
    "## Baseline model"
   ]
  },
  {
   "cell_type": "code",
   "execution_count": 27,
   "metadata": {},
   "outputs": [],
   "source": [
    "# define baseline model\n",
    "def baseline_model():\n",
    "\n",
    "    model = models.Sequential()\n",
    "    model.add(layers.Dense(8, activation='relu',\n",
    "                          input_shape=(4,)))\n",
    "    model.add(layers.Dense(3, activation='softmax'))\n",
    "    model.compile(optimizer='adam', loss='categorical_crossentropy', metrics=['accuracy'])\n",
    "\n",
    "    return model\n"
   ]
  },
  {
   "cell_type": "code",
   "execution_count": 28,
   "metadata": {},
   "outputs": [],
   "source": [
    "estimator = KerasClassifier(build_fn=baseline_model, epochs=200, batch_size=5, verbose=0)"
   ]
  },
  {
   "cell_type": "code",
   "execution_count": 29,
   "metadata": {},
   "outputs": [],
   "source": [
    "kfold = KFold(n_splits=10, shuffle=True, random_state=seed)"
   ]
  },
  {
   "cell_type": "code",
   "execution_count": 30,
   "metadata": {},
   "outputs": [
    {
     "name": "stdout",
     "output_type": "stream",
     "text": [
      "Baseline: 96.67% (3.33%)\n"
     ]
    }
   ],
   "source": [
    "results = cross_val_score(estimator, X, dummy_y, cv=kfold)\n",
    "print(\"Baseline: %.2f%% (%.2f%%)\" % (results.mean()*100, results.std()*100))\n"
   ]
  },
  {
   "cell_type": "markdown",
   "metadata": {},
   "source": [
    "## Smaller Network"
   ]
  },
  {
   "cell_type": "code",
   "execution_count": 11,
   "metadata": {},
   "outputs": [
    {
     "name": "stdout",
     "output_type": "stream",
     "text": [
      "Baseline: 91.33% (13.01%)\n"
     ]
    }
   ],
   "source": [
    "# smaller model\n",
    "def create_smaller():\n",
    "\n",
    "    model = models.Sequential()\n",
    "    model.add(layers.Dense(4, activation='relu',\n",
    "                          input_shape=(4,)))\n",
    "    model.add(layers.Dense(3, activation='softmax'))\n",
    "    model.compile(optimizer='adam', loss='categorical_crossentropy', metrics=['accuracy'])\n",
    "\n",
    "    \n",
    "    return model\n",
    "estimator = KerasClassifier(build_fn=create_smaller, epochs=100, batch_size=5, verbose=0)\n",
    "\n",
    "kfold = KFold(n_splits=10, shuffle=True, random_state=seed)\n",
    "\n",
    "results = cross_val_score(estimator, X, dummy_y, cv=kfold)\n",
    "print(\"Baseline: %.2f%% (%.2f%%)\" % (results.mean()*100, results.std()*100))\n"
   ]
  },
  {
   "cell_type": "markdown",
   "metadata": {},
   "source": [
    "## Larger Network"
   ]
  },
  {
   "cell_type": "code",
   "execution_count": 12,
   "metadata": {},
   "outputs": [
    {
     "name": "stdout",
     "output_type": "stream",
     "text": [
      "Baseline: 96.67% (3.33%)\n"
     ]
    }
   ],
   "source": [
    "# larger model\n",
    "def create_larger():\n",
    " \n",
    "    model = models.Sequential()\n",
    "    model.add(layers.Dense(16, activation='relu',\n",
    "                          input_shape=(4,)))\n",
    "    model.add(layers.Dense(3, activation='softmax'))\n",
    "    model.compile(optimizer='adam', loss='categorical_crossentropy', metrics=['accuracy'])\n",
    "   \n",
    "\n",
    "    \n",
    "    return model\n",
    "\n",
    "estimator = KerasClassifier(build_fn=create_larger, epochs=100, batch_size=5, verbose=0)\n",
    "\n",
    "kfold = KFold(n_splits=10, shuffle=True, random_state=seed)\n",
    "\n",
    "results = cross_val_score(estimator, X, dummy_y, cv=kfold)\n",
    "print(\"Baseline: %.2f%% (%.2f%%)\" % (results.mean()*100, results.std()*100))\n"
   ]
  },
  {
   "cell_type": "markdown",
   "metadata": {},
   "source": [
    "## Overfit Model"
   ]
  },
  {
   "cell_type": "code",
   "execution_count": 13,
   "metadata": {},
   "outputs": [
    {
     "name": "stdout",
     "output_type": "stream",
     "text": [
      "Baseline: 96.00% (5.33%)\n"
     ]
    }
   ],
   "source": [
    "def create_overfitting():\n",
    " \n",
    "    model = models.Sequential()\n",
    "    model.add(layers.Dense(16, activation='relu',\n",
    "                          input_shape=(4,)))\n",
    "    model.add(layers.Dense(8, activation='relu',\n",
    "                          input_shape=(4,)))\n",
    "    model.add(layers.Dense(3, activation='softmax'))\n",
    "    model.compile(optimizer='adam', loss='categorical_crossentropy', metrics=['accuracy'])\n",
    "   \n",
    "\n",
    "    \n",
    "    return model\n",
    "\n",
    "estimator = KerasClassifier(build_fn=create_overfitting, epochs=200, batch_size=5, verbose=0)\n",
    "\n",
    "kfold = KFold(n_splits=10, shuffle=True, random_state=seed)\n",
    "\n",
    "results = cross_val_score(estimator, X, dummy_y, cv=kfold)\n",
    "print(\"Baseline: %.2f%% (%.2f%%)\" % (results.mean()*100, results.std()*100))\n"
   ]
  },
  {
   "cell_type": "markdown",
   "metadata": {},
   "source": [
    "## Optimum Model "
   ]
  },
  {
   "cell_type": "code",
   "execution_count": 87,
   "metadata": {
    "scrolled": true
   },
   "outputs": [
    {
     "name": "stdout",
     "output_type": "stream",
     "text": [
      "Baseline: 98.00% (4.27%)\n"
     ]
    }
   ],
   "source": [
    "from keras.layers import Dropout\n",
    "\n",
    "def create_optimum():\n",
    " \n",
    "    model = models.Sequential()\n",
    "    model.add(layers.Dense(16, activation='relu',\n",
    "                          input_shape=(4,)))\n",
    "    model.add(Dropout(0.2))\n",
    "    model.add(layers.Dense(8, activation='relu',\n",
    "                          input_shape=(4,)))\n",
    "    model.add(Dropout(0.2))\n",
    "    model.add(layers.Dense(3, activation='softmax'))\n",
    "    model.compile(optimizer='adam', loss='categorical_crossentropy', metrics=['accuracy'])\n",
    "   \n",
    "\n",
    "    \n",
    "    return model\n",
    "\n",
    "estimator = KerasClassifier(build_fn=create_optimum, epochs=200, batch_size=5, verbose=0)\n",
    "\n",
    "kfold = KFold(n_splits=10, shuffle=True, random_state=seed)\n",
    "\n",
    "results = cross_val_score(estimator, X, dummy_y, cv=kfold)\n",
    "print(\"Baseline: %.2f%% (%.2f%%)\" % (results.mean()*100, results.std()*100))\n"
   ]
  },
  {
   "cell_type": "markdown",
   "metadata": {},
   "source": [
    "## Using Keras Functional API"
   ]
  },
  {
   "cell_type": "code",
   "execution_count": 15,
   "metadata": {},
   "outputs": [],
   "source": [
    "from keras.layers import Input, Dense\n",
    "from keras.models import Model\n",
    "\n",
    "def functional_model():\n",
    "\n",
    " # This returns a tensor\n",
    " inputs = keras.Input(shape=(4,))\n",
    "\n",
    " # a layer instance is callable on a tensor, and returns a tensor\n",
    " x = Dense(8, activation='relu')(inputs)\n",
    " predictions = Dense(3, activation='softmax')(x)\n",
    "\n",
    " # This creates a model that includes\n",
    " # the Input layer and three Dense layers\n",
    " model = Model(inputs=inputs, outputs=predictions)\n",
    " model.compile(optimizer='adam',\n",
    "              loss='categorical_crossentropy',\n",
    "              metrics=['accuracy'])\n",
    " return model\n",
    "\n",
    "#history = model.fit(X, encoded_Y, epochs=10, batch_size=30)  # starts training\n"
   ]
  },
  {
   "cell_type": "code",
   "execution_count": 16,
   "metadata": {},
   "outputs": [
    {
     "name": "stdout",
     "output_type": "stream",
     "text": [
      "Standardized: 95.33% (5.21%)\n"
     ]
    }
   ],
   "source": [
    "import pandas \n",
    "import numpy \n",
    "import keras\n",
    "from keras.models import Sequential\n",
    "from keras.layers import Dense\n",
    "from keras import models\n",
    "from keras import layers\n",
    "from keras.wrappers.scikit_learn import KerasClassifier\n",
    "from sklearn.model_selection import cross_val_score\n",
    "from sklearn.model_selection import StratifiedKFold\n",
    "from sklearn.preprocessing import StandardScaler\n",
    "from sklearn import preprocessing\n",
    "from sklearn.pipeline import Pipeline\n",
    "\n",
    "\n",
    "# evaluate baseline model with standardized dataset\n",
    "numpy.random.seed(seed)\n",
    "estimators = []\n",
    "estimators.append(('standardize', StandardScaler()))\n",
    "history = estimators.append(('mlp', KerasClassifier(build_fn=functional_model, epochs=100, batch_size=5, verbose=0)))\n",
    "pipeline = Pipeline(estimators)\n",
    "kfold = StratifiedKFold(n_splits=10, shuffle=True, random_state=seed)\n",
    "results = cross_val_score(pipeline, X, encoded_Y, cv=kfold)\n",
    "print(\"Standardized: %.2f%% (%.2f%%)\" % (results.mean()*100, results.std()*100))"
   ]
  },
  {
   "cell_type": "markdown",
   "metadata": {},
   "source": [
    "## Using Model Subclassing"
   ]
  },
  {
   "cell_type": "code",
   "execution_count": 85,
   "metadata": {
    "scrolled": false
   },
   "outputs": [
    {
     "data": {
      "text/plain": [
       "<tensorflow.python.keras._impl.keras.callbacks.History at 0x15e83a4e278>"
      ]
     },
     "execution_count": 85,
     "metadata": {},
     "output_type": "execute_result"
    }
   ],
   "source": [
    "import tensorflow as tf\n",
    "import keras\n",
    "\n",
    "#inputs = keras.Input(shape=(4,))\n",
    "\n",
    "class MyModel(tf.keras.Model):\n",
    "\n",
    "  def __init__(self):\n",
    "    super(MyModel, self).__init__()\n",
    "    self.dense1 = tf.keras.layers.Dense(8, activation=tf.nn.relu, input_shape=(4,))\n",
    "    self.dense2 = tf.keras.layers.Dense(3, activation=tf.nn.softmax)\n",
    "\n",
    "  def call(self, inputs):\n",
    "    x = self.dense1(inputs)\n",
    "    return self.dense2(x)\n",
    "\n",
    "model = MyModel()\n",
    "\n",
    "model.compile(optimizer='adam',\n",
    "              loss='categorical_crossentropy',\n",
    "              metrics=['accuracy'])\n",
    "\n",
    "model.fit(X, encoded_Y, epochs=100, batch_size=5, verbose=0)\n",
    "\n"
   ]
  },
  {
   "cell_type": "markdown",
   "metadata": {},
   "source": [
    "## k-fold Cross Validation without using scikit-learn"
   ]
  },
  {
   "cell_type": "code",
   "execution_count": 90,
   "metadata": {
    "scrolled": true
   },
   "outputs": [
    {
     "name": "stdout",
     "output_type": "stream",
     "text": [
      "processing fold # 0\n",
      "processing fold # 1\n",
      "processing fold # 2\n",
      "processing fold # 3\n",
      "processing fold # 4\n",
      "processing fold # 5\n",
      "processing fold # 6\n",
      "processing fold # 7\n",
      "processing fold # 8\n",
      "processing fold # 9\n"
     ]
    }
   ],
   "source": [
    "import numpy as np\n",
    "\n",
    "k = 10\n",
    "num_val_samples = len(X) // k\n",
    "num_epochs = 200\n",
    "all_scores = []\n",
    "for i in range(k):\n",
    "    print('processing fold #', i)\n",
    "    # Prepare the encoded_Y[i * num_val_samples: (i + 1) * num_val_samples]\n",
    "    val_data = X[i * num_val_samples: (i + 1) * num_val_samples]\n",
    "    val_targets = encoded_Y[i * num_val_samples: (i + 1) * num_val_samples]\n",
    "    # Prepare the training data: data from all other partitions\n",
    "    partial_train_data = np.concatenate(\n",
    "        [X[:i * num_val_samples],\n",
    "         X[(i + 1) * num_val_samples:]],\n",
    "        axis=0)\n",
    "    partial_train_targets = np.concatenate(\n",
    "        [encoded_Y[:i * num_val_samples],\n",
    "         encoded_Y[(i + 1) * num_val_samples:]],\n",
    "        axis=0)\n",
    "\n",
    "    # Build the Keras model (already compiled)\n",
    "    model = create_optimum()\n",
    "    \n",
    "    model.compile(optimizer='adam',\n",
    "    loss='sparse_categorical_crossentropy',\n",
    "              metrics=['accuracy'])\n",
    "    # Train the model (in silent mode, verbose=0)\n",
    "    model.fit(partial_train_data, partial_train_targets, epochs=num_epochs, batch_size=5, verbose=0)\n",
    "    #          epochs=num_epochs,validation_split=10, shuffle=True, batch_size=5, verbose=0)\n",
    "    # Evaluate the model on the validation data\n",
    "    val_err, val_acc = model.evaluate(val_data, val_targets, verbose=0)\n",
    "    all_scores.append(val_acc)"
   ]
  },
  {
   "cell_type": "code",
   "execution_count": 91,
   "metadata": {},
   "outputs": [
    {
     "name": "stdout",
     "output_type": "stream",
     "text": [
      "Standardized: 96.67% (4.47%)\n"
     ]
    }
   ],
   "source": [
    "###### all_scores\n",
    "print(\"Standardized: %.2f%% (%.2f%%)\" % (np.mean(all_scores)*100, np.std(all_scores)*100))\n"
   ]
  },
  {
   "cell_type": "code",
   "execution_count": null,
   "metadata": {},
   "outputs": [],
   "source": []
  }
 ],
 "metadata": {
  "kernelspec": {
   "display_name": "Python 3",
   "language": "python",
   "name": "python3"
  }
 },
 "nbformat": 4,
 "nbformat_minor": 2
}
